{
  "nbformat": 4,
  "nbformat_minor": 0,
  "metadata": {
    "colab": {
      "name": "Untitled29.ipynb",
      "provenance": [],
      "collapsed_sections": []
    },
    "kernelspec": {
      "name": "python3",
      "display_name": "Python 3"
    },
    "language_info": {
      "name": "python"
    }
  },
  "cells": [
    {
      "cell_type": "code",
      "execution_count": 43,
      "metadata": {
        "id": "TacG6guxvV4x"
      },
      "outputs": [],
      "source": [
        "# Gerekli Kütüphaneleri Ekle\n",
        "import pandas as pd\n",
        "import numpy as np\n",
        "import seaborn as sns\n",
        "import sklearn\n",
        "from numpy import absolute\n",
        "from numpy import mean\n",
        "from numpy import std\n",
        "from sklearn.linear_model import LinearRegression\n",
        "from sklearn.neighbors import KNeighborsRegressor\n",
        "from sklearn.tree import DecisionTreeRegressor\n",
        "from sklearn.model_selection import RepeatedKFold\n",
        "from sklearn.model_selection import cross_val_score"
      ]
    },
    {
      "cell_type": "code",
      "source": [
        "# Veri Setini Oku\n",
        "df = pd.read_csv('data.csv')"
      ],
      "metadata": {
        "id": "OvrFqlZvvbeh"
      },
      "execution_count": 44,
      "outputs": []
    },
    {
      "cell_type": "code",
      "source": [
        "# Girdi ve Çıktıları Ayrı Dizilere At\n",
        "X = df[[\"v\", \"q\", \"o1\"]].to_numpy()\n",
        "y = df[[\"vc\", \"qc\", \"o1c\"]].to_numpy()"
      ],
      "metadata": {
        "id": "WRO58PaSvgVX"
      },
      "execution_count": 45,
      "outputs": []
    },
    {
      "cell_type": "code",
      "source": [
        "# Modelleri Tanımla\n",
        "LineerModel = LinearRegression()\n",
        "KNmodel = KNeighborsRegressor()\n",
        "DTreemodel = DecisionTreeRegressor()"
      ],
      "metadata": {
        "id": "yGOZjzZEvh_n"
      },
      "execution_count": 46,
      "outputs": []
    },
    {
      "cell_type": "code",
      "source": [
        "# Modelleri Eğit\n",
        "lineerReg = LineerModel.fit(X,y)\n",
        "KNReg = KNmodel.fit(X,y)\n",
        "DTreeReg = DTreemodel.fit(X,y)"
      ],
      "metadata": {
        "id": "EoOkjJ2vvjaV"
      },
      "execution_count": 47,
      "outputs": []
    },
    {
      "cell_type": "code",
      "source": [
        "# K Fold Değerlendirme\n",
        "cv = RepeatedKFold(n_splits=10, n_repeats=10, random_state=1)"
      ],
      "metadata": {
        "id": "dGsYhDAqvkz5"
      },
      "execution_count": 48,
      "outputs": []
    },
    {
      "cell_type": "code",
      "source": [
        "# Çapraz doğrulama\n",
        "n_scoresLineer = cross_val_score(lineerReg, X, y, scoring='neg_mean_absolute_error', cv=cv, n_jobs=-1)\n",
        "n_scoresKN = cross_val_score(KNReg, X, y, scoring='neg_mean_absolute_error', cv=cv, n_jobs=-1)\n",
        "n_scoresDTree = cross_val_score(DTreeReg, X, y, scoring='neg_mean_absolute_error', cv=cv, n_jobs=-1)"
      ],
      "metadata": {
        "id": "8j0npk8zvmQN"
      },
      "execution_count": 49,
      "outputs": []
    },
    {
      "cell_type": "code",
      "source": [
        "# Negatif sonuçları pozitif olarak değiştir.\n",
        "n_scoresLineer = absolute(n_scoresLineer)\n",
        "n_scoresKN = absolute(n_scoresKN)\n",
        "n_scoresDTree = absolute(n_scoresDTree)"
      ],
      "metadata": {
        "id": "mdLA_Ck4vn-d"
      },
      "execution_count": 50,
      "outputs": []
    },
    {
      "cell_type": "code",
      "source": [
        "# Performans Ölçümü\n",
        "print('Lineer MAE: %.3f (%.3f)' % (mean(n_scoresLineer), std(n_scoresLineer)))\n",
        "print('KN MAE: %.3f (%.3f)' % (mean(n_scoresKN), std(n_scoresKN)))\n",
        "print('DTree MAE: %.3f (%.3f)' % (mean(n_scoresDTree), std(n_scoresDTree)))"
      ],
      "metadata": {
        "colab": {
          "base_uri": "https://localhost:8080/"
        },
        "id": "O-FsDEcgvqK3",
        "outputId": "3daf8e99-f3fa-4829-8778-3aaeb2c31f7c"
      },
      "execution_count": 51,
      "outputs": [
        {
          "output_type": "stream",
          "name": "stdout",
          "text": [
            "Lineer MAE: 12.164 (1.789)\n",
            "KN MAE: 13.151 (1.837)\n",
            "DTree MAE: 17.504 (2.196)\n"
          ]
        }
      ]
    },
    {
      "cell_type": "code",
      "source": [],
      "metadata": {
        "id": "Q_gQNGiw4yWq"
      },
      "execution_count": null,
      "outputs": []
    }
  ]
}
