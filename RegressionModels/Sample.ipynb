# Gerekli Kütüphaneleri Ekle
import pandas as pd
import numpy as np
import seaborn as sns
import sklearn
from numpy import absolute
from numpy import mean
from numpy import std
from sklearn.linear_model import LinearRegression
from sklearn.neighbors import KNeighborsRegressor
from sklearn.tree import DecisionTreeRegressor
from sklearn.model_selection import RepeatedKFold
from sklearn.model_selection import cross_val_score

# Veri Setini Oku
df = pd.read_csv('data.csv')

# Girdi ve Çıktıları Ayrı Dizilere At
X = df[["v", "q", "o1"]].to_numpy()
y = df[["vc", "qc", "o1c"]].to_numpy()

# Modelleri Tanımla
LineerModel = LinearRegression()
KNmodel = KNeighborsRegressor()
DTreemodel = DecisionTreeRegressor()

# Modelleri Eğit
lineerReg = LineerModel.fit(X,y)
KNReg = KNmodel.fit(X,y)
DTreeReg = DTreemodel.fit(X,y)

# K Fold Değerlendirme
cv = RepeatedKFold(n_splits=10, n_repeats=10, random_state=1)

# Çapraz doğrulama
n_scoresLineer = cross_val_score(lineerReg, X, y, scoring='neg_mean_absolute_error', cv=cv, n_jobs=-1)
n_scoresKN = cross_val_score(KNReg, X, y, scoring='neg_mean_absolute_error', cv=cv, n_jobs=-1)
n_scoresDTree = cross_val_score(DTreeReg, X, y, scoring='neg_mean_absolute_error', cv=cv, n_jobs=-1)

# Negatif sonuçları pozitif olarak değiştir.
n_scoresLineer = absolute(n_scoresLineer)
n_scoresKN = absolute(n_scoresKN)
n_scoresDTree = absolute(n_scoresDTree)

# Performans Ölçümü
print('Lineer MAE: %.3f (%.3f)' % (mean(n_scoresLineer), std(n_scoresLineer)))
print('KN MAE: %.3f (%.3f)' % (mean(n_scoresKN), std(n_scoresKN)))
print('DTree MAE: %.3f (%.3f)' % (mean(n_scoresDTree), std(n_scoresDTree)))
